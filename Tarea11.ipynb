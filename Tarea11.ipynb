{
  "nbformat": 4,
  "nbformat_minor": 0,
  "metadata": {
    "colab": {
      "provenance": [],
      "authorship_tag": "ABX9TyP+FPLx5lIMC8nyc9H/h29H",
      "include_colab_link": true
    },
    "kernelspec": {
      "name": "python3",
      "display_name": "Python 3"
    },
    "language_info": {
      "name": "python"
    }
  },
  "cells": [
    {
      "cell_type": "markdown",
      "metadata": {
        "id": "view-in-github",
        "colab_type": "text"
      },
      "source": [
        "<a href=\"https://colab.research.google.com/github/Miguel-EMC/Tarea-11/blob/main/Tarea11.ipynb\" target=\"_parent\"><img src=\"https://colab.research.google.com/assets/colab-badge.svg\" alt=\"Open In Colab\"/></a>"
      ]
    },
    {
      "cell_type": "markdown",
      "source": [
        "# CONJUNTO DE EJERCICIOS\n"
      ],
      "metadata": {
        "id": "o11c9nP7G29n"
      }
    },
    {
      "cell_type": "markdown",
      "source": [
        "1. Encuentre las primeras dos iteraciones del método de Jacobi para los siguientes sistemas lineales, por x^0=0."
      ],
      "metadata": {
        "id": "StBQq_lBG8-e"
      }
    },
    {
      "cell_type": "code",
      "execution_count": 1,
      "metadata": {
        "colab": {
          "base_uri": "https://localhost:8080/"
        },
        "id": "pVeG68f2GpBd",
        "outputId": "848cc477-3b90-4bb2-92e0-cf088ae7f759"
      },
      "outputs": [
        {
          "output_type": "stream",
          "name": "stdout",
          "text": [
            "Sistema a:\n",
            "Iteration 1: [0.33333333 0.         0.57142857]\n",
            "Iteration 2: [ 0.14285714 -0.35714286  0.42857143]\n",
            "\n",
            "Sistema b:\n",
            "Iteration 1: [0.9 0.7 0.6]\n",
            "Iteration 2: [0.97 0.91 0.74]\n",
            "\n",
            "Sistema c:\n",
            "Iteration 1: [ 0.6    2.5   -1.375 -2.2  ]\n",
            "Iteration 2: [-0.65   1.65  -0.4   -2.475]\n",
            "\n",
            "Sistema d:\n",
            "Iteration 1: [ 1.5 -2.   1.2  1.5  1.5]\n",
            "Iteration 2: [ 0.95  -1.6    1.6    1.675  2.425]\n"
          ]
        },
        {
          "output_type": "execute_result",
          "data": {
            "text/plain": [
              "array([ 0.95 , -1.6  ,  1.6  ,  1.675,  2.425])"
            ]
          },
          "metadata": {},
          "execution_count": 1
        }
      ],
      "source": [
        "import numpy as np\n",
        "\n",
        "def jacobi_iteration(A, b, x0, iterations):\n",
        "    D = np.diag(np.diag(A))\n",
        "    R = A - D\n",
        "    D_inv = np.linalg.inv(D)\n",
        "\n",
        "    x = x0\n",
        "    for i in range(iterations):\n",
        "        x = np.dot(D_inv, b - np.dot(R, x))\n",
        "        print(f\"Iteration {i+1}: {x}\")\n",
        "    return x\n",
        "\n",
        "# a. Sistema de ecuaciones\n",
        "A_a = np.array([[3, -1, 1],\n",
        "                [3, 6, 2],\n",
        "                [3, 3, 7]], dtype=float)\n",
        "b_a = np.array([1, 0, 4], dtype=float)\n",
        "x0_a = np.zeros(3)\n",
        "\n",
        "# b. Sistema de ecuaciones\n",
        "A_b = np.array([[10, -1, 0],\n",
        "                [-1, 10, -2],\n",
        "                [0, -2, 10]], dtype=float)\n",
        "b_b = np.array([9, 7, 6], dtype=float)\n",
        "x0_b = np.zeros(3)\n",
        "\n",
        "# c. Sistema de ecuaciones\n",
        "A_c = np.array([[10, 5, 0, 0],\n",
        "                [5, 10, -4, 0],\n",
        "                [0, -4, 8, -1],\n",
        "                [0, 0, -1, 5]], dtype=float)\n",
        "b_c = np.array([6, 25, -11, -11], dtype=float)\n",
        "x0_c = np.zeros(4)\n",
        "\n",
        "# d. Sistema de ecuaciones\n",
        "A_d = np.array([[4, 1, 1, 1, 1],\n",
        "                [-1, -3, 1, 1, 0],\n",
        "                [2, 1, 5, -1, -1],\n",
        "                [-1, -1, -1, 4, 0],\n",
        "                [0, 2, -1, 1, 4]], dtype=float)\n",
        "b_d = np.array([6, 6, 6, 6, 6], dtype=float)\n",
        "x0_d = np.zeros(5)\n",
        "\n",
        "print(\"Sistema a:\")\n",
        "jacobi_iteration(A_a, b_a, x0_a, 2)\n",
        "\n",
        "print(\"\\nSistema b:\")\n",
        "jacobi_iteration(A_b, b_b, x0_b, 2)\n",
        "\n",
        "print(\"\\nSistema c:\")\n",
        "jacobi_iteration(A_c, b_c, x0_c, 2)\n",
        "\n",
        "print(\"\\nSistema d:\")\n",
        "jacobi_iteration(A_d, b_d, x0_d, 2)\n"
      ]
    },
    {
      "cell_type": "markdown",
      "source": [
        "2.\tRepita el ejercicio 1 usando el método de Gauss-Siedel."
      ],
      "metadata": {
        "id": "VjT1nAGhICwJ"
      }
    },
    {
      "cell_type": "code",
      "source": [
        "import numpy as np\n",
        "\n",
        "def gauss_seidel_iteration(A, b, x0, iterations):\n",
        "    L = np.tril(A)\n",
        "    U = A - L\n",
        "\n",
        "    x = x0\n",
        "    for i in range(iterations):\n",
        "        x = np.dot(np.linalg.inv(L), b - np.dot(U, x))\n",
        "        print(f\"Iteration {i+1}: {x}\")\n",
        "    return x\n",
        "\n",
        "# a. Sistema de ecuaciones\n",
        "A_a = np.array([[3, -1, 1],\n",
        "                [3, 6, 2],\n",
        "                [3, 3, 7]], dtype=float)\n",
        "b_a = np.array([1, 0, 4], dtype=float)\n",
        "x0_a = np.zeros(3)\n",
        "\n",
        "# b. Sistema de ecuaciones\n",
        "A_b = np.array([[10, -1, 0],\n",
        "                [-1, 10, -2],\n",
        "                [0, -2, 10]], dtype=float)\n",
        "b_b = np.array([9, 7, 6], dtype=float)\n",
        "x0_b = np.zeros(3)\n",
        "\n",
        "# c. Sistema de ecuaciones\n",
        "A_c = np.array([[10, 5, 0, 0],\n",
        "                [5, 10, -4, 0],\n",
        "                [0, -4, 8, -1],\n",
        "                [0, 0, -1, 5]], dtype=float)\n",
        "b_c = np.array([6, 25, -11, -11], dtype=float)\n",
        "x0_c = np.zeros(4)\n",
        "\n",
        "# d. Sistema de ecuaciones\n",
        "A_d = np.array([[4, 1, 1, 1, 1],\n",
        "                [-1, -3, 1, 1, 0],\n",
        "                [2, 1, 5, -1, -1],\n",
        "                [-1, -1, -1, 4, 0],\n",
        "                [0, 2, -1, 1, 4]], dtype=float)\n",
        "b_d = np.array([6, 6, 6, 6, 6], dtype=float)\n",
        "x0_d = np.zeros(5)\n",
        "\n",
        "print(\"Sistema a:\")\n",
        "gauss_seidel_iteration(A_a, b_a, x0_a, 2)\n",
        "\n",
        "print(\"\\nSistema b:\")\n",
        "gauss_seidel_iteration(A_b, b_b, x0_b, 2)\n",
        "\n",
        "print(\"\\nSistema c:\")\n",
        "gauss_seidel_iteration(A_c, b_c, x0_c, 2)\n",
        "\n",
        "print(\"\\nSistema d:\")\n",
        "gauss_seidel_iteration(A_d, b_d, x0_d, 2)"
      ],
      "metadata": {
        "colab": {
          "base_uri": "https://localhost:8080/"
        },
        "id": "G8Th1oAYIHmR",
        "outputId": "60ce32fa-9144-41e6-cb38-f319bbf949dc"
      },
      "execution_count": 2,
      "outputs": [
        {
          "output_type": "stream",
          "name": "stdout",
          "text": [
            "Sistema a:\n",
            "Iteration 1: [ 0.33333333 -0.16666667  0.5       ]\n",
            "Iteration 2: [ 0.11111111 -0.22222222  0.61904762]\n",
            "\n",
            "Sistema b:\n",
            "Iteration 1: [0.9   0.79  0.758]\n",
            "Iteration 2: [0.979  0.9495 0.7899]\n",
            "\n",
            "Sistema c:\n",
            "Iteration 1: [ 0.6    2.2   -0.275 -2.255]\n",
            "Iteration 2: [-0.5       2.64     -0.336875 -2.267375]\n",
            "\n",
            "Sistema d:\n",
            "Iteration 1: [ 1.5     -2.5      1.1      1.525    2.64375]\n",
            "Iteration 2: [ 0.8078125  -1.39427083  1.98947917  1.85075521  2.23181641]\n"
          ]
        },
        {
          "output_type": "execute_result",
          "data": {
            "text/plain": [
              "array([ 0.8078125 , -1.39427083,  1.98947917,  1.85075521,  2.23181641])"
            ]
          },
          "metadata": {},
          "execution_count": 2
        }
      ]
    },
    {
      "cell_type": "markdown",
      "source": [
        "3. Utilice el método de Jacobi para resolver los sistemas lineales en el ejercicio 1, con TOL = 10-3."
      ],
      "metadata": {
        "id": "uQ6wqdABIiwE"
      }
    },
    {
      "cell_type": "code",
      "source": [
        "import numpy as np\n",
        "\n",
        "def jacobi_method(A, b, x0, tol, max_iterations=1000):\n",
        "    D = np.diag(np.diag(A))\n",
        "    R = A - D\n",
        "    D_inv = np.linalg.inv(D)\n",
        "\n",
        "    x = x0\n",
        "    for i in range(max_iterations):\n",
        "        x_new = np.dot(D_inv, b - np.dot(R, x))\n",
        "        if np.linalg.norm(x_new - x, ord=np.inf) < tol:\n",
        "            return x_new, i+1\n",
        "        x = x_new\n",
        "    return x, max_iterations\n",
        "\n",
        "# a. Sistema de ecuaciones\n",
        "A_a = np.array([[3, -1, 1],\n",
        "                [3, 6, 2],\n",
        "                [3, 3, 7]], dtype=float)\n",
        "b_a = np.array([1, 0, 4], dtype=float)\n",
        "x0_a = np.zeros(3)\n",
        "\n",
        "# b. Sistema de ecuaciones\n",
        "A_b = np.array([[10, -1, 0],\n",
        "                [-1, 10, -2],\n",
        "                [0, -2, 10]], dtype=float)\n",
        "b_b = np.array([9, 7, 6], dtype=float)\n",
        "x0_b = np.zeros(3)\n",
        "\n",
        "# c. Sistema de ecuaciones\n",
        "A_c = np.array([[10, 5, 0, 0],\n",
        "                [5, 10, -4, 0],\n",
        "                [0, -4, 8, -1],\n",
        "                [0, 0, -1, 5]], dtype=float)\n",
        "b_c = np.array([6, 25, -11, -11], dtype=float)\n",
        "x0_c = np.zeros(4)\n",
        "\n",
        "# d. Sistema de ecuaciones\n",
        "A_d = np.array([[4, 1, 1, 1, 1],\n",
        "                [-1, -3, 1, 1, 0],\n",
        "                [2, 1, 5, -1, -1],\n",
        "                [-1, -1, -1, 4, 0],\n",
        "                [0, 2, -1, 1, 4]], dtype=float)\n",
        "b_d = np.array([6, 6, 6, 6, 6], dtype=float)\n",
        "x0_d = np.zeros(5)\n",
        "\n",
        "tol = 1e-3\n",
        "\n",
        "print(\"Sistema a:\")\n",
        "x_a, iter_a = jacobi_method(A_a, b_a, x0_a, tol)\n",
        "print(f\"Solución: {x_a}, Iteraciones: {iter_a}\")\n",
        "\n",
        "print(\"\\nSistema b:\")\n",
        "x_b, iter_b = jacobi_method(A_b, b_b, x0_b, tol)\n",
        "print(f\"Solución: {x_b}, Iteraciones: {iter_b}\")\n",
        "\n",
        "print(\"\\nSistema c:\")\n",
        "x_c, iter_c = jacobi_method(A_c, b_c, x0_c, tol)\n",
        "print(f\"Solución: {x_c}, Iteraciones: {iter_c}\")\n",
        "\n",
        "print(\"\\nSistema d:\")\n",
        "x_d, iter_d = jacobi_method(A_d, b_d, x0_d, tol)\n",
        "print(f\"Solución: {x_d}, Iteraciones: {iter_d}\")"
      ],
      "metadata": {
        "colab": {
          "base_uri": "https://localhost:8080/"
        },
        "id": "gcSxe85NIj_M",
        "outputId": "04b93f80-fb13-41ff-b3d2-273557ff16ce"
      },
      "execution_count": 3,
      "outputs": [
        {
          "output_type": "stream",
          "name": "stdout",
          "text": [
            "Sistema a:\n",
            "Solución: [ 0.03510079 -0.23663751  0.65812732], Iteraciones: 9\n",
            "\n",
            "Sistema b:\n",
            "Solución: [0.995725 0.957775 0.79145 ], Iteraciones: 6\n",
            "\n",
            "Sistema c:\n",
            "Solución: [-0.79710581  2.79517067 -0.25939578 -2.25179299], Iteraciones: 21\n",
            "\n",
            "Sistema d:\n",
            "Solución: [ 0.24153745 -0.78416425  2.01971649  1.86935059  1.92933646], Iteraciones: 12\n"
          ]
        }
      ]
    },
    {
      "cell_type": "markdown",
      "source": [
        "4.\tUtilice el método de Gauss-Siedel para resolver los sistemas lineales en el ejercicio 1, con TOL = 10-3."
      ],
      "metadata": {
        "id": "Qx4cFf3aI-33"
      }
    },
    {
      "cell_type": "code",
      "source": [
        "import numpy as np\n",
        "\n",
        "def gauss_seidel_method(A, b, x0, tol, max_iterations=1000):\n",
        "    n = len(b)\n",
        "    x = x0.copy()\n",
        "\n",
        "    for k in range(max_iterations):\n",
        "        x_new = x.copy()\n",
        "        for i in range(n):\n",
        "            sum1 = np.dot(A[i, :i], x_new[:i])\n",
        "            sum2 = np.dot(A[i, i+1:], x[i+1:])\n",
        "            x_new[i] = (b[i] - sum1 - sum2) / A[i, i]\n",
        "\n",
        "        if np.linalg.norm(x_new - x, ord=np.inf) < tol:\n",
        "            return x_new, k+1\n",
        "        x = x_new\n",
        "\n",
        "    return x, max_iterations\n",
        "\n",
        "# a. Sistema de ecuaciones\n",
        "A_a = np.array([[3, -1, 1],\n",
        "                [3, 6, 2],\n",
        "                [3, 3, 7]], dtype=float)\n",
        "b_a = np.array([1, 0, 4], dtype=float)\n",
        "x0_a = np.zeros(3)\n",
        "\n",
        "# b. Sistema de ecuaciones\n",
        "A_b = np.array([[10, -1, 0],\n",
        "                [-1, 10, -2],\n",
        "                [0, -2, 10]], dtype=float)\n",
        "b_b = np.array([9, 7, 6], dtype=float)\n",
        "x0_b = np.zeros(3)\n",
        "\n",
        "# c. Sistema de ecuaciones\n",
        "A_c = np.array([[10, 5, 0, 0],\n",
        "                [5, 10, -4, 0],\n",
        "                [0, -4, 8, -1],\n",
        "                [0, 0, -1, 5]], dtype=float)\n",
        "b_c = np.array([6, 25, -11, -11], dtype=float)\n",
        "x0_c = np.zeros(4)\n",
        "\n",
        "# d. Sistema de ecuaciones\n",
        "A_d = np.array([[4, 1, 1, 1, 1],\n",
        "                [-1, -3, 1, 1, 0],\n",
        "                [2, 1, 5, -1, -1],\n",
        "                [-1, -1, -1, 4, 0],\n",
        "                [0, 2, -1, 1, 4]], dtype=float)\n",
        "b_d = np.array([6, 6, 6, 6, 6], dtype=float)\n",
        "x0_d = np.zeros(5)\n",
        "\n",
        "tol = 1e-3\n",
        "\n",
        "print(\"Sistema a:\")\n",
        "x_a, iter_a = gauss_seidel_method(A_a, b_a, x0_a, tol)\n",
        "print(f\"Solución: {x_a}, Iteraciones: {iter_a}\")\n",
        "\n",
        "print(\"\\nSistema b:\")\n",
        "x_b, iter_b = gauss_seidel_method(A_b, b_b, x0_b, tol)\n",
        "print(f\"Solución: {x_b}, Iteraciones: {iter_b}\")\n",
        "\n",
        "print(\"\\nSistema c:\")\n",
        "x_c, iter_c = gauss_seidel_method(A_c, b_c, x0_c, tol)\n",
        "print(f\"Solución: {x_c}, Iteraciones: {iter_c}\")\n",
        "\n",
        "print(\"\\nSistema d:\")\n",
        "x_d, iter_d = gauss_seidel_method(A_d, b_d, x0_d, tol)\n",
        "print(f\"Solución: {x_d}, Iteraciones: {iter_d}\")"
      ],
      "metadata": {
        "colab": {
          "base_uri": "https://localhost:8080/"
        },
        "id": "exyz7v4XI_w8",
        "outputId": "e2f4d46e-2ecc-4252-d496-8a2ac65063d0"
      },
      "execution_count": 4,
      "outputs": [
        {
          "output_type": "stream",
          "name": "stdout",
          "text": [
            "Sistema a:\n",
            "Solución: [ 0.03535107 -0.23678863  0.65775895], Iteraciones: 6\n",
            "\n",
            "Sistema b:\n",
            "Solución: [0.9957475  0.95787375 0.79157475], Iteraciones: 4\n",
            "\n",
            "Sistema c:\n",
            "Solución: [-0.79691476  2.79461827 -0.25918081 -2.25183616], Iteraciones: 9\n",
            "\n",
            "Sistema d:\n",
            "Solución: [ 0.24127557 -0.78410571  2.0200189   1.86929719  1.92973328], Iteraciones: 7\n"
          ]
        }
      ]
    },
    {
      "cell_type": "markdown",
      "source": [
        "5. El sistema lineal\n",
        "\n",
        "![image.png](data:image/png;base64,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)\n"
      ],
      "metadata": {
        "id": "KB3kyhYNJn1A"
      }
    },
    {
      "cell_type": "markdown",
      "source": [
        "Parte A: Muestre que el método de Jacobi con x(0) = 0 falla al proporcionar una buena aproximación después de 25 iteraciones."
      ],
      "metadata": {
        "id": "o-h21WYpJnU3"
      }
    },
    {
      "cell_type": "code",
      "source": [
        "import numpy as np\n",
        "\n",
        "def jacobi_method_fail(A, b, x0, iterations):\n",
        "    D = np.diag(np.diag(A))\n",
        "    R = A - D\n",
        "    D_inv = np.linalg.inv(D)\n",
        "\n",
        "    x = x0\n",
        "    for i in range(iterations):\n",
        "        x_new = np.dot(D_inv, b - np.dot(R, x))\n",
        "        x = x_new\n",
        "    return x\n",
        "\n",
        "A = np.array([[2, -1, 1],\n",
        "              [2, 2, 2],\n",
        "              [-1, -1, 2]], dtype=float)\n",
        "b = np.array([-1, 4, -5], dtype=float)\n",
        "x0 = np.zeros(3)\n",
        "\n",
        "iterations = 25\n",
        "\n",
        "x_jacobi = jacobi_method_fail(A, b, x0, iterations)\n",
        "print(f\"Solución después de {iterations} iteraciones (Jacobi): {x_jacobi}\")"
      ],
      "metadata": {
        "colab": {
          "base_uri": "https://localhost:8080/"
        },
        "id": "-opWlHR7Jn_0",
        "outputId": "4f91f8da-eb85-49b8-beea-5a050d1b7dc9"
      },
      "execution_count": 5,
      "outputs": [
        {
          "output_type": "stream",
          "name": "stdout",
          "text": [
            "Solución después de 25 iteraciones (Jacobi): [-20.82787284   2.         -22.82787284]\n"
          ]
        }
      ]
    },
    {
      "cell_type": "markdown",
      "source": [
        "Parte B: Utilice el método de Gauss-Siedel con x(0) = 0:para aproximar la solución para el sistema lineal dentro de 10^(-5)."
      ],
      "metadata": {
        "id": "HNuNBNw9KLhz"
      }
    },
    {
      "cell_type": "code",
      "source": [
        "def gauss_seidel_method_tol(A, b, x0, tol, max_iterations=1000):\n",
        "    n = len(b)\n",
        "    x = x0.copy()\n",
        "\n",
        "    for k in range(max_iterations):\n",
        "        x_new = x.copy()\n",
        "        for i in range(n):\n",
        "            sum1 = np.dot(A[i, :i], x_new[:i])\n",
        "            sum2 = np.dot(A[i, i+1:], x[i+1:])\n",
        "            x_new[i] = (b[i] - sum1 - sum2) / A[i, i]\n",
        "\n",
        "        if np.linalg.norm(x_new - x, ord=np.inf) < tol:\n",
        "            return x_new, k+1\n",
        "        x = x_new\n",
        "\n",
        "    return x, max_iterations\n",
        "\n",
        "tol = 1e-5\n",
        "\n",
        "x_gauss_seidel, iter_gauss_seidel = gauss_seidel_method_tol(A, b, x0, tol)\n",
        "print(f\"Solución aproximada (Gauss-Seidel): {x_gauss_seidel}, Iteraciones: {iter_gauss_seidel}\")"
      ],
      "metadata": {
        "colab": {
          "base_uri": "https://localhost:8080/"
        },
        "id": "yIe7oHjuKPDi",
        "outputId": "ef4c0be8-6919-419b-f81b-91c2838cb083"
      },
      "execution_count": 6,
      "outputs": [
        {
          "output_type": "stream",
          "name": "stdout",
          "text": [
            "Solución aproximada (Gauss-Seidel): [ 1.00000226  1.9999975  -1.00000012], Iteraciones: 23\n"
          ]
        }
      ]
    },
    {
      "cell_type": "markdown",
      "source": [
        "El sistema lineal\n",
        "![image.png](data:image/png;base64,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)"
      ],
      "metadata": {
        "id": "37cdTcfwLYs5"
      }
    },
    {
      "cell_type": "markdown",
      "source": [
        "A) ¿La matriz de coeficientes\n",
        "![image.png](data:image/png;base64,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)"
      ],
      "metadata": {
        "id": "0g9zPPkmLdNp"
      }
    },
    {
      "cell_type": "code",
      "source": [
        "# Definir la matriz de coeficientes y el vector de términos independientes\n",
        "A = np.array([[1, 0, -1],\n",
        "              [-0.5, 1, -0.25],\n",
        "              [1, -0.5, 1]])\n",
        "\n",
        "b = np.array([0.2, -1.425, 2])\n",
        "\n",
        "# a) Verificar si la matriz tiene diagonal estrictamente dominante\n",
        "def diagonal_dominante(A):\n",
        "    for i in range(len(A)):\n",
        "        suma_fila = sum(abs(A[i][j]) for j in range(len(A)) if j != i)\n",
        "        if abs(A[i][i]) <= suma_fila:\n",
        "            return False\n",
        "    return True\n",
        "\n",
        "print(\"¿La matriz A tiene diagonal estrictamente dominante?\", diagonal_dominante(A))"
      ],
      "metadata": {
        "colab": {
          "base_uri": "https://localhost:8080/"
        },
        "id": "ZhPT9I-3LiCB",
        "outputId": "2b9ce475-357d-4794-e638-363fbb3f3b74"
      },
      "execution_count": 8,
      "outputs": [
        {
          "output_type": "stream",
          "name": "stdout",
          "text": [
            "¿La matriz A tiene diagonal estrictamente dominante? False\n"
          ]
        }
      ]
    },
    {
      "cell_type": "markdown",
      "source": [
        "\n",
        "Utilice el método iterativo de Gauss-Siedel para aproximar la solución para el sistema lineal con una tolerancia de 〖10〗_22 y un máximo de 300 iteraciones.\n"
      ],
      "metadata": {
        "id": "-UzKv2QKL1Tg"
      }
    },
    {
      "cell_type": "code",
      "source": [
        "def gauss_seidel(A, b, x0, tol, max_iter):\n",
        "    n = len(A)\n",
        "    x = x0.copy()\n",
        "\n",
        "    for k in range(max_iter):\n",
        "        x_new = np.zeros_like(x)\n",
        "\n",
        "        for i in range(n):\n",
        "            s1 = sum(A[i][j] * x_new[j] for j in range(i))\n",
        "            s2 = sum(A[i][j] * x[j] for j in range(i + 1, n))\n",
        "            x_new[i] = (b[i] - s1 - s2) / A[i][i]\n",
        "\n",
        "        if np.linalg.norm(x_new - x, ord=np.inf) < tol:\n",
        "            return x_new, k + 1\n",
        "\n",
        "        x = x_new\n",
        "\n",
        "    return x, max_iter\n",
        "\n",
        "# Valores iniciales, tolerancia y máximo de iteraciones\n",
        "x0 = np.zeros(len(b))\n",
        "tol = 1e-22\n",
        "max_iter = 300\n",
        "\n",
        "sol, iteraciones = gauss_seidel(A, b, x0, tol, max_iter)\n",
        "print(\"Solución aproximada:\", sol)\n",
        "print(\"Iteraciones:\", iteraciones)"
      ],
      "metadata": {
        "colab": {
          "base_uri": "https://localhost:8080/"
        },
        "id": "hNMnHb5RL3Kn",
        "outputId": "32a71282-d811-42cc-91d3-e5118e352b8d"
      },
      "execution_count": 9,
      "outputs": [
        {
          "output_type": "stream",
          "name": "stdout",
          "text": [
            "Solución aproximada: [ 0.9 -0.8  0.7]\n",
            "Iteraciones: 300\n"
          ]
        }
      ]
    },
    {
      "cell_type": "markdown",
      "source": [
        "c)\t¿Qué pasa en la parte b) cuando el sistema cambia por el siguiente?"
      ],
      "metadata": {
        "id": "dh7cb676MFpk"
      }
    },
    {
      "cell_type": "code",
      "source": [
        "A_cambiada = np.array([[1, 0, -2],\n",
        "                       [-0.5, 1, -0.25],\n",
        "                       [1, -0.5, 1]])\n",
        "\n",
        "print(\"¿La nueva matriz A tiene diagonal estrictamente dominante?\", diagonal_dominante(A_cambiada))\n",
        "\n",
        "sol_cambiada, iteraciones_cambiada = gauss_seidel(A_cambiada, b, x0, tol, max_iter)\n",
        "print(\"Solución aproximada para el sistema cambiado:\", sol_cambiada)\n",
        "print(\"Iteraciones para el sistema cambiado:\", iteraciones_cambiada)"
      ],
      "metadata": {
        "colab": {
          "base_uri": "https://localhost:8080/"
        },
        "id": "Zh96zsxRMGoE",
        "outputId": "e533868d-c19d-49c8-ab4e-081051296486"
      },
      "execution_count": 10,
      "outputs": [
        {
          "output_type": "stream",
          "name": "stdout",
          "text": [
            "¿La nueva matriz A tiene diagonal estrictamente dominante? False\n",
            "Solución aproximada para el sistema cambiado: [ 2.15687283e+41  1.34804552e+41 -1.48285007e+41]\n",
            "Iteraciones para el sistema cambiado: 300\n"
          ]
        }
      ]
    },
    {
      "cell_type": "markdown",
      "source": [
        "7.\tRepita el ejercicio 11 usando el método de Jacobi."
      ],
      "metadata": {
        "id": "0hVe5iq_MjBk"
      }
    },
    {
      "cell_type": "code",
      "source": [
        "import numpy as np\n",
        "\n",
        "# Definir la matriz de coeficientes y el vector de términos independientes\n",
        "A = np.array([[1, 0, -1],\n",
        "              [-0.5, 1, -0.25],\n",
        "              [1, -0.5, 1]])\n",
        "\n",
        "b = np.array([0.2, -1.425, 2])\n",
        "\n",
        "# a) Verificar si la matriz tiene diagonal estrictamente dominante\n",
        "def diagonal_dominante(A):\n",
        "    for i in range(len(A)):\n",
        "        suma_fila = sum(abs(A[i][j]) for j in range(len(A)) if j != i)\n",
        "        if abs(A[i][i]) <= suma_fila:\n",
        "            return False\n",
        "    return True\n",
        "\n",
        "print(\"¿La matriz A tiene diagonal estrictamente dominante?\", diagonal_dominante(A))\n",
        "\n",
        "# Método de Jacobi\n",
        "def jacobi(A, b, x0, tol, max_iter):\n",
        "    n = len(A)\n",
        "    x = x0.copy()\n",
        "\n",
        "    for k in range(max_iter):\n",
        "        x_new = np.zeros_like(x)\n",
        "\n",
        "        for i in range(n):\n",
        "            s1 = sum(A[i][j] * x[j] for j in range(n) if j != i)\n",
        "            x_new[i] = (b[i] - s1) / A[i][i]\n",
        "\n",
        "        if np.linalg.norm(x_new - x, ord=np.inf) < tol:\n",
        "            return x_new, k + 1\n",
        "\n",
        "        x = x_new\n",
        "\n",
        "    return x, max_iter\n",
        "\n",
        "# Valores iniciales, tolerancia y máximo de iteraciones\n",
        "x0 = np.zeros(len(b))\n",
        "tol = 1e-22\n",
        "max_iter = 300\n",
        "\n",
        "sol, iteraciones = jacobi(A, b, x0, tol, max_iter)\n",
        "print(\"Solución aproximada con Jacobi:\", sol)\n",
        "print(\"Iteraciones con Jacobi:\", iteraciones)\n",
        "\n",
        "# c) Qué pasa si cambia el sistema\n",
        "A_cambiada = np.array([[1, 0, -2],\n",
        "                       [-0.5, 1, -0.25],\n",
        "                       [1, -0.5, 1]])\n",
        "\n",
        "print(\"¿La nueva matriz A tiene diagonal estrictamente dominante?\", diagonal_dominante(A_cambiada))\n",
        "\n",
        "sol_cambiada, iteraciones_cambiada = jacobi(A_cambiada, b, x0, tol, max_iter)\n",
        "print(\"Solución aproximada para el sistema cambiado con Jacobi:\", sol_cambiada)\n",
        "print(\"Iteraciones para el sistema cambiado con Jacobi:\", iteraciones_cambiada)"
      ],
      "metadata": {
        "colab": {
          "base_uri": "https://localhost:8080/"
        },
        "id": "Tc6_psbEMj1E",
        "outputId": "4e952d99-4ce5-49b6-b783-0dbde62e8359"
      },
      "execution_count": 11,
      "outputs": [
        {
          "output_type": "stream",
          "name": "stdout",
          "text": [
            "¿La matriz A tiene diagonal estrictamente dominante? False\n",
            "Solución aproximada con Jacobi: [ 0.90025541 -0.80004033  0.70012933]\n",
            "Iteraciones con Jacobi: 300\n",
            "¿La nueva matriz A tiene diagonal estrictamente dominante? False\n",
            "Solución aproximada para el sistema cambiado con Jacobi: [ 1.34478913e+43 -7.28028158e+42  1.56650340e+43]\n",
            "Iteraciones para el sistema cambiado con Jacobi: 300\n"
          ]
        }
      ]
    },
    {
      "cell_type": "markdown",
      "source": [
        "8."
      ],
      "metadata": {
        "id": "hePelOVpNBBB"
      }
    },
    {
      "cell_type": "code",
      "source": [
        "import numpy as np\n",
        "\n",
        "# Definir la matriz de coeficientes y el vector de términos independientes\n",
        "A = np.array([\n",
        "    [4, -1, 0, 0, -1, 0, 0, 0, 0, 0, 0, 0],\n",
        "    [-1, 4, -1, 0, 0, 0, 0, 0, 0, 0, 0, 0],\n",
        "    [0, -1, 4, -1, 0, 0, 0, 0, 0, 0, 0, 0],\n",
        "    [0, 0, -1, 4, 0, -1, 0, 0, 0, 0, 0, 0],\n",
        "    [-1, 0, 0, 0, 4, -1, 0, 0, 0, 0, 0, 0],\n",
        "    [0, 0, 0, -1, -1, 4, -1, 0, 0, 0, 0, 0],\n",
        "    [0, 0, 0, 0, 0, -1, 4, -1, 0, 0, 0, 0],\n",
        "    [0, 0, 0, 0, 0, 0, -1, 4, -1, 0, 0, 0],\n",
        "    [0, 0, 0, 0, 0, 0, 0, -1, 4, -1, 0, 0],\n",
        "    [0, 0, 0, 0, 0, 0, 0, 0, -1, 4, -1, 0],\n",
        "    [0, 0, 0, 0, 0, 0, 0, 0, 0, -1, 4, -1],\n",
        "    [0, 0, 0, 0, 0, 0, 0, 0, 0, 0, -1, 4]\n",
        "])\n",
        "\n",
        "b = np.array([220, 110, 110, 110, 220, 110, 110, 110, 110, 220, 110, 220])\n",
        "\n",
        "def diagonal_dominante(A):\n",
        "    for i in range(len(A)):\n",
        "        suma_fila = sum(abs(A[i][j]) for j in range(len(A)) if j != i)\n",
        "        if abs(A[i][i]) <= suma_fila:\n",
        "            return False\n",
        "    return True\n",
        "\n",
        "print(\"¿La matriz A es estrictamente diagonalmente dominante?\", diagonal_dominante(A))"
      ],
      "metadata": {
        "colab": {
          "base_uri": "https://localhost:8080/"
        },
        "id": "-XMaFP4lNCDQ",
        "outputId": "2b028eaa-a14c-4c3a-9bcd-65f1d2b3fe6c"
      },
      "execution_count": 12,
      "outputs": [
        {
          "output_type": "stream",
          "name": "stdout",
          "text": [
            "¿La matriz A es estrictamente diagonalmente dominante? True\n"
          ]
        }
      ]
    },
    {
      "cell_type": "markdown",
      "source": [
        "b)\tResuelva el sistema lineal usando el método de Jacobi con x(0) = 0 y TOL = 10-2."
      ],
      "metadata": {
        "id": "W4Msi3oLNJRY"
      }
    },
    {
      "cell_type": "code",
      "source": [
        "def jacobi(A, b, x0, tol, max_iter):\n",
        "    n = len(A)\n",
        "    x = x0.copy()\n",
        "\n",
        "    for k in range(max_iter):\n",
        "        x_new = np.zeros_like(x)\n",
        "\n",
        "        for i in range(n):\n",
        "            s1 = sum(A[i][j] * x[j] for j in range(n) if j != i)\n",
        "            x_new[i] = (b[i] - s1) / A[i][i]\n",
        "\n",
        "        if np.linalg.norm(x_new - x, ord=np.inf) < tol:\n",
        "            return x_new, k + 1\n",
        "\n",
        "        x = x_new\n",
        "\n",
        "    return x, max_iter\n",
        "\n",
        "# Valores iniciales, tolerancia y máximo de iteraciones\n",
        "x0 = np.zeros(len(b))\n",
        "tol = 1e-2\n",
        "max_iter = 300\n",
        "\n",
        "sol, iteraciones = jacobi(A, b, x0, tol, max_iter)\n",
        "print(\"Solución aproximada con Jacobi:\", sol)\n",
        "print(\"Iteraciones con Jacobi:\", iteraciones)"
      ],
      "metadata": {
        "colab": {
          "base_uri": "https://localhost:8080/"
        },
        "id": "zE6MA_IFNIo3",
        "outputId": "3a4205df-b223-4acf-f03b-d0a612ffab78"
      },
      "execution_count": 13,
      "outputs": [
        {
          "output_type": "stream",
          "name": "stdout",
          "text": [
            "Solución aproximada con Jacobi: [ 96.73660795  66.6989272   60.06994132  63.59316186 100.25982849\n",
            "  84.31730409  63.43678057  59.44342705  64.34635314  87.94857696\n",
            "  67.45211848  71.86273091]\n",
            "Iteraciones con Jacobi: 15\n"
          ]
        }
      ]
    },
    {
      "cell_type": "markdown",
      "source": [
        "c) Repita la b) mediante el método de Gauss-Siedel."
      ],
      "metadata": {
        "id": "jOehtzHXNT7H"
      }
    },
    {
      "cell_type": "code",
      "source": [
        "def gauss_seidel(A, b, x0, tol, max_iter):\n",
        "    n = len(A)\n",
        "    x = x0.copy()\n",
        "\n",
        "    for k in range(max_iter):\n",
        "        x_new = np.zeros_like(x)\n",
        "\n",
        "        for i in range(n):\n",
        "            s1 = sum(A[i][j] * x_new[j] for j in range(i))\n",
        "            s2 = sum(A[i][j] * x[j] for j in range(i + 1, n))\n",
        "            x_new[i] = (b[i] - s1 - s2) / A[i][i]\n",
        "\n",
        "        if np.linalg.norm(x_new - x, ord=np.inf) < tol:\n",
        "            return x_new, k + 1\n",
        "\n",
        "        x = x_new\n",
        "\n",
        "    return x, max_iter\n",
        "\n",
        "sol_gs, iteraciones_gs = gauss_seidel(A, b, x0, tol, max_iter)\n",
        "print(\"Solución aproximada con Gauss-Seidel:\", sol_gs)\n",
        "print(\"Iteraciones con Gauss-Seidel:\", iteraciones_gs)"
      ],
      "metadata": {
        "colab": {
          "base_uri": "https://localhost:8080/"
        },
        "id": "rRiK8qCdNTVA",
        "outputId": "330df5e4-39a5-4ea4-d920-36bede27674f"
      },
      "execution_count": 14,
      "outputs": [
        {
          "output_type": "stream",
          "name": "stdout",
          "text": [
            "Solución aproximada con Gauss-Seidel: [ 96.73929892  66.70219417  60.07426125  63.59925277 100.26551219\n",
            "  84.32664977  63.44353355  59.44823562  64.34972942  87.95080809\n",
            "  67.45354596  71.86338649]\n",
            "Iteraciones con Gauss-Seidel: 10\n"
          ]
        }
      ]
    }
  ]
}